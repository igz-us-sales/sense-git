{
 "cells": [
  {
   "cell_type": "code",
   "execution_count": null,
   "id": "aeec733d",
   "metadata": {},
   "outputs": [],
   "source": [
    "import mlrun\n",
    "\n",
    "mlrun.set_env_from_file(\"mlrun.env\")\n",
    "\n",
    "project = mlrun.get_or_create_project(name=\"sense-private-git\", context=\"./\")"
   ]
  },
  {
   "cell_type": "markdown",
   "id": "1bf8e3dc",
   "metadata": {},
   "source": [
    "### Create Kubernetes Secret"
   ]
  },
  {
   "cell_type": "markdown",
   "id": "197a950e",
   "metadata": {},
   "source": [
    "You only need to add this once per project. Do not commit this to git"
   ]
  },
  {
   "cell_type": "code",
   "execution_count": null,
   "id": "5c5a4526",
   "metadata": {},
   "outputs": [],
   "source": [
    "secrets = {'GIT_TOKEN': 'XXXXXXXXXXXXXXXXXXXXX'}\n",
    "project.set_secrets(secrets=secrets, provider=\"kubernetes\")"
   ]
  },
  {
   "cell_type": "markdown",
   "id": "c55a6571",
   "metadata": {},
   "source": [
    "### Code Overview"
   ]
  },
  {
   "cell_type": "code",
   "execution_count": null,
   "id": "a8c868ff",
   "metadata": {},
   "outputs": [],
   "source": [
    "!cat module.py"
   ]
  },
  {
   "cell_type": "code",
   "execution_count": null,
   "id": "ca40f08d",
   "metadata": {},
   "outputs": [],
   "source": [
    "!cat test.py"
   ]
  },
  {
   "cell_type": "markdown",
   "id": "40a7bfcb",
   "metadata": {},
   "source": [
    "### Create Function with Git Repo and Secret"
   ]
  },
  {
   "cell_type": "markdown",
   "id": "b684d037",
   "metadata": {},
   "source": [
    "This is creating a new function to run the job"
   ]
  },
  {
   "cell_type": "code",
   "execution_count": null,
   "id": "2a8cf645",
   "metadata": {},
   "outputs": [],
   "source": [
    "fn = mlrun.new_function(\n",
    "    name=\"git-test\",\n",
    "    kind=\"job\",\n",
    "    image=\"mlrun/mlrun\",\n",
    ")"
   ]
  },
  {
   "cell_type": "markdown",
   "id": "2c66baa2",
   "metadata": {},
   "source": [
    "This is adding your git repo to the job and specifying to pull it at runtime. The handler is in the format of `<FILE>.<FUNCTION>`. In this case, my `test.py` file has a function called `handler`"
   ]
  },
  {
   "cell_type": "code",
   "execution_count": null,
   "id": "7b9aeacb",
   "metadata": {},
   "outputs": [],
   "source": [
    "fn.with_source_archive(\n",
    "    source=\"git://github.com/igz-us-sales/sense-git.git\",\n",
    "    handler=\"test.handler\",\n",
    "    pull_at_runtime=True\n",
    ")"
   ]
  },
  {
   "cell_type": "markdown",
   "id": "d6b9b9a8",
   "metadata": {},
   "source": [
    "This is running the job and adding your secret. The secret will be pulled at runtime from the Kubernetes cluster"
   ]
  },
  {
   "cell_type": "code",
   "execution_count": null,
   "id": "9ad13d25",
   "metadata": {},
   "outputs": [],
   "source": [
    "fn.run(\n",
    "    local=False,\n",
    "    runspec=mlrun.new_task().with_secrets('kubernetes', ['GIT_TOKEN'])\n",
    ")"
   ]
  },
  {
   "cell_type": "code",
   "execution_count": null,
   "id": "d71ae94b",
   "metadata": {},
   "outputs": [],
   "source": []
  }
 ],
 "metadata": {
  "kernelspec": {
   "display_name": "Python [conda env:root] *",
   "language": "python",
   "name": "conda-root-py"
  },
  "language_info": {
   "codemirror_mode": {
    "name": "ipython",
    "version": 3
   },
   "file_extension": ".py",
   "mimetype": "text/x-python",
   "name": "python",
   "nbconvert_exporter": "python",
   "pygments_lexer": "ipython3",
   "version": "3.7.6"
  }
 },
 "nbformat": 4,
 "nbformat_minor": 5
}
